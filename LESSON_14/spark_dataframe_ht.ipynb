{
 "cells": [
  {
   "cell_type": "code",
   "execution_count": 2,
   "metadata": {
    "collapsed": true
   },
   "outputs": [],
   "source": [
    "from pyspark.sql import SparkSession, functions as F, types as T"
   ]
  },
  {
   "cell_type": "code",
   "execution_count": 3,
   "metadata": {
    "collapsed": false,
    "pycharm": {
     "is_executing": true
    }
   },
   "outputs": [],
   "source": [
    "spark = SparkSession.builder.master('local[*]').getOrCreate()"
   ]
  },
  {
   "cell_type": "code",
   "execution_count": 4,
   "metadata": {
    "collapsed": false
   },
   "outputs": [
    {
     "name": "stdout",
     "output_type": "stream",
     "text": [
      "3.5.0\n"
     ]
    }
   ],
   "source": [
    "print(spark.version)"
   ]
  },
  {
   "cell_type": "code",
   "execution_count": 7,
   "metadata": {},
   "outputs": [],
   "source": [
    "#spark.stop()"
   ]
  },
  {
   "cell_type": "code",
   "execution_count": 5,
   "metadata": {},
   "outputs": [],
   "source": [
    "#actor_df = spark.read.csv('./data/actor.csv', header=True, inferSchema=True)\n"
   ]
  },
  {
   "cell_type": "code",
   "execution_count": 5,
   "metadata": {
    "collapsed": false
   },
   "outputs": [],
   "source": [
    "actor_df = spark.read.csv('./data/actor.csv', header=True, inferSchema=True)\n",
    "address_df = spark.read.csv('./data/address.csv', header=True, inferSchema=True)\n",
    "category_df = spark.read.csv('./data/category.csv', header=True, inferSchema=True)\n",
    "city_df = spark.read.csv('./data/city.csv', header=True, inferSchema=True)\n",
    "country_df = spark.read.csv('./data/country.csv', header=True, inferSchema=True)\n",
    "customer_df = spark.read.csv('./data/customer.csv', header=True, inferSchema=True)\n",
    "film_df = spark.read.csv('./data/film.csv', header=True, inferSchema=True)\n",
    "film_actor_df = spark.read.csv('./data/film_actor.csv', header=True, inferSchema=True)\n",
    "film_category_df = spark.read.csv('./data/film_category.csv', header=True, inferSchema=True)\n",
    "inventory_df = spark.read.csv('./data/inventory.csv', header=True, inferSchema=True)\n",
    "language_df = spark.read.csv('./data/language.csv', header=True, inferSchema=True)\n",
    "payment_df = spark.read.csv('./data/payment.csv', header=True, inferSchema=True)\n",
    "rental_df = spark.read.csv('./data/rental.csv', header=True, inferSchema=True)\n",
    "staff_df = spark.read.csv('./data/staff.csv', header=True, inferSchema=True)\n",
    "store_df = spark.read.csv('./data/store.csv', header=True, inferSchema=True)"
   ]
  },
  {
   "cell_type": "markdown",
   "metadata": {
    "collapsed": false
   },
   "source": [
    "# Домашнє завдання на тему Spark SQL\n",
    "\n",
    "Задачі з домашнього завдання на SQL потрібно розвʼязати за допомогою Spark SQL DataFrame API.\n",
    "\n",
    "- Дампи таблиць знаходяться в папці `data`. Датафрейми таблиць вже створені в клітинці вище.\n",
    "- Можете створювати стільки нових клітинок, скільки вам необхідно.\n",
    "- Розвʼязок кожної задачі має бути відображений в самому файлі (використати метод `.show()`)\n",
    "- код має бути оформлений у відповідності із одним із стилем, показаним лектором на занятті 13.\n",
    "\n",
    "**Увага!**\n",
    "Використовувати мову запитів SQL безпосередньо забороняється, потрібно використовувати виключно DataFrame API!\n"
   ]
  },
  {
   "cell_type": "markdown",
   "metadata": {
    "collapsed": false
   },
   "source": [
    "1.\n",
    "Вивести кількість фільмів в кожній категорії.\n",
    "Результат відсортувати за спаданням."
   ]
  },
  {
   "cell_type": "code",
   "execution_count": 28,
   "metadata": {
    "collapsed": false
   },
   "outputs": [
    {
     "name": "stdout",
     "output_type": "stream",
     "text": [
      "+-----------+-----------+-----+\n",
      "|category_id|       name|count|\n",
      "+-----------+-----------+-----+\n",
      "|         15|     Sports|   74|\n",
      "|          9|    Foreign|   73|\n",
      "|          8|     Family|   69|\n",
      "|          6|Documentary|   68|\n",
      "|          2|  Animation|   66|\n",
      "+-----------+-----------+-----+\n",
      "only showing top 5 rows\n",
      "\n"
     ]
    }
   ],
   "source": [
    "# тут має бути розвʼязок задачі\n",
    "\n",
    "film_df.join(film_category_df, on = 'film_id').join(category_df, on='category_id')\\\n",
    "    .select('category_id','name').groupBy('category_id','name').count().orderBy('count', ascending=False).show(5)\n"
   ]
  },
  {
   "cell_type": "markdown",
   "metadata": {
    "collapsed": false
   },
   "source": [
    "2.\n",
    "Вивести 10 акторів, чиї фільми брали на прокат найбільше.\n",
    "Результат відсортувати за спаданням."
   ]
  },
  {
   "cell_type": "code",
   "execution_count": 29,
   "metadata": {
    "collapsed": false
   },
   "outputs": [
    {
     "name": "stdout",
     "output_type": "stream",
     "text": [
      "+---------------+---------+----------+\n",
      "|rental_duration|last_name|first_name|\n",
      "+---------------+---------+----------+\n",
      "|              7|  WINSLET|       FAY|\n",
      "|              7| WILLIAMS|    MORGAN|\n",
      "|              7|     DERN| SYLVESTER|\n",
      "|              7|  HOPKINS|   NATALIE|\n",
      "|              7|    GRANT|      ADAM|\n",
      "|              7|DEGENERES|      GINA|\n",
      "|              7|    ALLEN|      CUBA|\n",
      "|              7|    DENCH|  JULIANNE|\n",
      "|              7|   MALDEN|     GRETA|\n",
      "|              7| JOVOVICH|      KIRK|\n",
      "+---------------+---------+----------+\n",
      "only showing top 10 rows\n",
      "\n"
     ]
    }
   ],
   "source": [
    "# тут має бути розвʼязок задачі\n",
    "from pyspark.sql.functions import  desc, max\n",
    "actor_df.join(film_actor_df, on = 'actor_id').join(film_df, on = 'film_id').groupBy('rental_duration','last_name', 'first_name') \\\n",
    "    .agg(max(\"rental_duration\").alias(\"max_rental_duration\")) \\\n",
    "    .select('rental_duration','last_name', 'first_name') \\\n",
    "    .sort(desc(\"rental_duration\")) \\\n",
    "    .show(10)\n"
   ]
  },
  {
   "cell_type": "markdown",
   "metadata": {
    "collapsed": false
   },
   "source": [
    "3.\n",
    "Вивести категорія фільмів, на яку було витрачено найбільше грошей\n",
    "в прокаті"
   ]
  },
  {
   "cell_type": "code",
   "execution_count": 45,
   "metadata": {
    "collapsed": false
   },
   "outputs": [
    {
     "name": "stdout",
     "output_type": "stream",
     "text": [
      "+---------+\n",
      "|     name|\n",
      "+---------+\n",
      "|   Travel|\n",
      "|Animation|\n",
      "|   Horror|\n",
      "|      New|\n",
      "| Children|\n",
      "+---------+\n",
      "\n"
     ]
    }
   ],
   "source": [
    "# тут має бути розвʼязок задачі\n",
    "from pyspark.sql.functions import  col, desc, max\n",
    "\n",
    "max_value_df = film_df.join(payment_df, film_df.film_id == payment_df.rental_id) \\\n",
    "    .select(max(col('rental_duration')*col('amount')).alias('max_sum'))\n",
    "\n",
    "film_df.join(film_category_df, on = 'film_id').join(category_df, on='category_id').join(payment_df, film_df.film_id == payment_df.rental_id) \\\n",
    "    .join(max_value_df, film_df.rental_duration*payment_df.amount >= max_value_df.max_sum ) \\\n",
    "    .select(category_df.name) \\\n",
    "    .distinct().show(10)\n"
   ]
  },
  {
   "cell_type": "markdown",
   "metadata": {
    "collapsed": false
   },
   "source": [
    "4.\n",
    "Вивести назви фільмів, яких не має в inventory."
   ]
  },
  {
   "cell_type": "code",
   "execution_count": 10,
   "metadata": {
    "collapsed": false
   },
   "outputs": [
    {
     "name": "stdout",
     "output_type": "stream",
     "text": [
      "+-------+--------------------+\n",
      "|film_id|               title|\n",
      "+-------+--------------------+\n",
      "|    318|   FIREHOUSE VIETNAM|\n",
      "|    144| CHINATOWN GLADIATOR|\n",
      "|    642|      ORDER BETRAYED|\n",
      "|    607|         MUPPET MILE|\n",
      "|    802|         SKY MIRACLE|\n",
      "|    712|   RAIDERS ANTITRUST|\n",
      "|    128|       CATCH AMISTAD|\n",
      "|     41|ARSENIC INDEPENDENCE|\n",
      "|    943|   VILLAIN DESPERATE|\n",
      "|     87|   BOONDOCK BALLROOM|\n",
      "+-------+--------------------+\n",
      "only showing top 10 rows\n",
      "\n"
     ]
    }
   ],
   "source": [
    "# тут має бути розвʼязок задачі\n",
    "\n",
    "df = film_df.join(inventory_df, film_df.film_id == inventory_df.film_id, \"left\") \\\n",
    "    .filter(inventory_df.film_id.isNull()) \\\n",
    "    .select(film_df.film_id,film_df.title).distinct().show(10)"
   ]
  },
  {
   "cell_type": "markdown",
   "metadata": {
    "collapsed": false
   },
   "source": [
    "5.\n",
    "Вивести топ 3 актори, які найбільше зʼявлялись в категорії фільмів “Children”"
   ]
  },
  {
   "cell_type": "code",
   "execution_count": 27,
   "metadata": {
    "collapsed": false,
    "pycharm": {
     "is_executing": true
    }
   },
   "outputs": [
    {
     "name": "stdout",
     "output_type": "stream",
     "text": [
      "+---------+----------+---------+\n",
      "|last_name|first_name|cnt_actor|\n",
      "+---------+----------+---------+\n",
      "|   VOIGHT|     HELEN|        7|\n",
      "|  GARLAND|     KEVIN|        5|\n",
      "|    TANDY|      MARY|        5|\n",
      "+---------+----------+---------+\n",
      "only showing top 3 rows\n",
      "\n"
     ]
    }
   ],
   "source": [
    "# тут має бути розвʼязок задачі\n",
    "from pyspark.sql import Window, functions as F\n",
    "from pyspark.sql.functions import  desc\n",
    "w = Window.partitionBy(actor_df.actor_id)\n",
    "\n",
    "actor_df.join(film_actor_df, on = 'actor_id').join(film_df, film_actor_df.film_id == film_df.film_id) \\\n",
    "    .join(film_category_df, film_category_df.film_id == film_df.film_id) \\\n",
    "    .join(category_df, category_df.category_id == film_category_df.category_id) \\\n",
    "    .filter(category_df.name == 'Children') \\\n",
    "    .select(actor_df.last_name, actor_df.first_name, \\\n",
    "            #film_df.film_id, film_df.title, \\\n",
    "            F.count(category_df.category_id).over(w).alias('cnt_actor')) \\\n",
    "    .distinct() \\\n",
    "    .sort(desc('cnt_actor')) \\\n",
    "    .show(3)\n",
    "\n",
    "    \n",
    "\n",
    "\n",
    "    "
   ]
  },
  {
   "cell_type": "markdown",
   "metadata": {
    "collapsed": false
   },
   "source": [
    "Stop Spark session:"
   ]
  },
  {
   "cell_type": "code",
   "execution_count": 30,
   "metadata": {
    "collapsed": false
   },
   "outputs": [],
   "source": [
    "spark.stop()"
   ]
  }
 ],
 "metadata": {
  "kernelspec": {
   "display_name": "Python 3",
   "language": "python",
   "name": "python3"
  },
  "language_info": {
   "codemirror_mode": {
    "name": "ipython",
    "version": 3
   },
   "file_extension": ".py",
   "mimetype": "text/x-python",
   "name": "python",
   "nbconvert_exporter": "python",
   "pygments_lexer": "ipython3",
   "version": "3.10.4"
  }
 },
 "nbformat": 4,
 "nbformat_minor": 0
}
